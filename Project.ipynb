{
 "cells": [
  {
   "cell_type": "code",
   "execution_count": 31,
   "metadata": {
    "autoscroll": false,
    "collapsed": false,
    "ein.hycell": false,
    "ein.tags": "worksheet-0",
    "slideshow": {
     "slide_type": "-"
    },
    "pycharm": {
     "is_executing": false
    }
   },
   "outputs": [],
   "source": [
    "import os\n",
    "import pandas as pd\n",
    "import requests\n",
    "import matplotlib as plt\n",
    "import seaborn as sns\n",
    "from urllib.parse import quote"
   ]
  },
  {
   "cell_type": "code",
   "execution_count": 36,
   "metadata": {
    "autoscroll": false,
    "collapsed": false,
    "ein.hycell": false,
    "ein.tags": "worksheet-0",
    "slideshow": {
     "slide_type": "-"
    },
    "pycharm": {
     "is_executing": false
    }
   },
   "outputs": [],
   "source": [
    "data = pd.read_csv(\"./data/fake_or_real_news.csv\", index_col=0)"
   ]
  },
  {
   "cell_type": "code",
   "execution_count": 37,
   "metadata": {
    "autoscroll": false,
    "collapsed": false,
    "ein.hycell": false,
    "ein.tags": "worksheet-0",
    "slideshow": {
     "slide_type": "-"
    },
    "pycharm": {
     "is_executing": false,
     "name": "#%%\n"
    }
   },
   "outputs": [
    {
     "name": "stdout",
     "text": [
      "before data processing: (6335, 3)\n",
      "after data processing: (6274, 6)\n"
     ],
     "output_type": "stream"
    },
    {
     "data": {
      "text/plain": "<Figure size 432x288 with 1 Axes>",
      "image/png": "[encoded data removed]"
     },
     "metadata": {
      "needs_background": "light"
     },
     "output_type": "display_data"
    }
   ],
   "source": [
    "print(\"before data processing: \" + str(data.shape))\n",
    "sns.distplot(data.title.apply(lambda x: len(x.split())), color=\"black\")\n",
    "data[\"title_split\"] = data.title.apply(lambda x: x.split())\n",
    "data[\"title_len\"] = data.title.apply(lambda x: len(x.split()))\n",
    "data[\"title_url\"] = data.title.apply(lambda x: quote(x, safe=\"\"))\n",
    "data = data[(data.title_len >= 3) & (data.title_len <= 25)]\n",
    "print(\"after data processing: \" + str(data.shape))\n",
    "data.reset_index(drop=True,inplace=True)"
   ]
  },
  {
   "cell_type": "code",
   "execution_count": 38,
   "outputs": [
    {
     "data": {
      "text/plain": "                                                  title  \\\n0                          You Can Smell Hillary’s Fear   \n1     Watch The Exact Moment Paul Ryan Committed Pol...   \n2           Kerry to go to Paris in gesture of sympathy   \n3     Bernie supporters on Twitter erupt in anger ag...   \n4      The Battle of New York: Why This Primary Matters   \n...                                                 ...   \n6269  State Department says it can't find emails fro...   \n6270  The ‘P’ in PBS Should Stand for ‘Plutocratic’ ...   \n6271  Anti-Trump Protesters Are Tools of the Oligarc...   \n6272  In Ethiopia, Obama seeks progress on peace, se...   \n6273  Jeb Bush Is Suddenly Attacking Trump. Here's W...   \n\n                                                   text label  \\\n0     Daniel Greenfield, a Shillman Journalism Fello...  FAKE   \n1     Google Pinterest Digg Linkedin Reddit Stumbleu...  FAKE   \n2     U.S. Secretary of State John F. Kerry said Mon...  REAL   \n3     — Kaydee King (@KaydeeKing) November 9, 2016 T...  FAKE   \n4     It's primary day in New York and front-runners...  REAL   \n...                                                 ...   ...   \n6269  The State Department told the Republican Natio...  REAL   \n6270  The ‘P’ in PBS Should Stand for ‘Plutocratic’ ...  FAKE   \n6271   Anti-Trump Protesters Are Tools of the Oligar...  FAKE   \n6272  ADDIS ABABA, Ethiopia —President Obama convene...  REAL   \n6273  Jeb Bush Is Suddenly Attacking Trump. Here's W...  REAL   \n\n                                            title_split  title_len  \\\n0                    [You, Can, Smell, Hillary’s, Fear]          5   \n1     [Watch, The, Exact, Moment, Paul, Ryan, Commit...         14   \n2     [Kerry, to, go, to, Paris, in, gesture, of, sy...          9   \n3     [Bernie, supporters, on, Twitter, erupt, in, a...         15   \n4     [The, Battle, of, New, York:, Why, This, Prima...          9   \n...                                                 ...        ...   \n6269  [State, Department, says, it, can't, find, ema...         11   \n6270  [The, ‘P’, in, PBS, Should, Stand, for, ‘Pluto...         10   \n6271  [Anti-Trump, Protesters, Are, Tools, of, the, ...          9   \n6272  [In, Ethiopia,, Obama, seeks, progress, on, pe...         11   \n6273  [Jeb, Bush, Is, Suddenly, Attacking, Trump., H...         10   \n\n                                              title_url  \n0          You%20Can%20Smell%20Hillary%E2%80%99s%20Fear  \n1     Watch%20The%20Exact%20Moment%20Paul%20Ryan%20C...  \n2     Kerry%20to%20go%20to%20Paris%20in%20gesture%20...  \n3     Bernie%20supporters%20on%20Twitter%20erupt%20i...  \n4     The%20Battle%20of%20New%20York%3A%20Why%20This...  \n...                                                 ...  \n6269  State%20Department%20says%20it%20can%27t%20fin...  \n6270  The%20%E2%80%98P%E2%80%99%20in%20PBS%20Should%...  \n6271  Anti-Trump%20Protesters%20Are%20Tools%20of%20t...  \n6272  In%20Ethiopia%2C%20Obama%20seeks%20progress%20...  \n6273  Jeb%20Bush%20Is%20Suddenly%20Attacking%20Trump...  \n\n[6274 rows x 6 columns]",
      "text/html": "<div>\n<style scoped>\n    .dataframe tbody tr th:only-of-type {\n        vertical-align: middle;\n    }\n\n    .dataframe tbody tr th {\n        vertical-align: top;\n    }\n\n    .dataframe thead th {\n        text-align: right;\n    }\n</style>\n<table border=\"1\" class=\"dataframe\">\n  <thead>\n    <tr style=\"text-align: right;\">\n      <th></th>\n      <th>title</th>\n      <th>text</th>\n      <th>label</th>\n      <th>title_split</th>\n      <th>title_len</th>\n      <th>title_url</th>\n    </tr>\n  </thead>\n  <tbody>\n    <tr>\n      <th>0</th>\n      <td>You Can Smell Hillary’s Fear</td>\n      <td>Daniel Greenfield, a Shillman Journalism Fello...</td>\n      <td>FAKE</td>\n      <td>[You, Can, Smell, Hillary’s, Fear]</td>\n      <td>5</td>\n      <td>You%20Can%20Smell%20Hillary%E2%80%99s%20Fear</td>\n    </tr>\n    <tr>\n      <th>1</th>\n      <td>Watch The Exact Moment Paul Ryan Committed Pol...</td>\n      <td>Google Pinterest Digg Linkedin Reddit Stumbleu...</td>\n      <td>FAKE</td>\n      <td>[Watch, The, Exact, Moment, Paul, Ryan, Commit...</td>\n      <td>14</td>\n      <td>Watch%20The%20Exact%20Moment%20Paul%20Ryan%20C...</td>\n    </tr>\n    <tr>\n      <th>2</th>\n      <td>Kerry to go to Paris in gesture of sympathy</td>\n      <td>U.S. Secretary of State John F. Kerry said Mon...</td>\n      <td>REAL</td>\n      <td>[Kerry, to, go, to, Paris, in, gesture, of, sy...</td>\n      <td>9</td>\n      <td>Kerry%20to%20go%20to%20Paris%20in%20gesture%20...</td>\n    </tr>\n    <tr>\n      <th>3</th>\n      <td>Bernie supporters on Twitter erupt in anger ag...</td>\n      <td>— Kaydee King (@KaydeeKing) November 9, 2016 T...</td>\n      <td>FAKE</td>\n      <td>[Bernie, supporters, on, Twitter, erupt, in, a...</td>\n      <td>15</td>\n      <td>Bernie%20supporters%20on%20Twitter%20erupt%20i...</td>\n    </tr>\n    <tr>\n      <th>4</th>\n      <td>The Battle of New York: Why This Primary Matters</td>\n      <td>It's primary day in New York and front-runners...</td>\n      <td>REAL</td>\n      <td>[The, Battle, of, New, York:, Why, This, Prima...</td>\n      <td>9</td>\n      <td>The%20Battle%20of%20New%20York%3A%20Why%20This...</td>\n    </tr>\n    <tr>\n      <th>...</th>\n      <td>...</td>\n      <td>...</td>\n      <td>...</td>\n      <td>...</td>\n      <td>...</td>\n      <td>...</td>\n    </tr>\n    <tr>\n      <th>6269</th>\n      <td>State Department says it can't find emails fro...</td>\n      <td>The State Department told the Republican Natio...</td>\n      <td>REAL</td>\n      <td>[State, Department, says, it, can't, find, ema...</td>\n      <td>11</td>\n      <td>State%20Department%20says%20it%20can%27t%20fin...</td>\n    </tr>\n    <tr>\n      <th>6270</th>\n      <td>The ‘P’ in PBS Should Stand for ‘Plutocratic’ ...</td>\n      <td>The ‘P’ in PBS Should Stand for ‘Plutocratic’ ...</td>\n      <td>FAKE</td>\n      <td>[The, ‘P’, in, PBS, Should, Stand, for, ‘Pluto...</td>\n      <td>10</td>\n      <td>The%20%E2%80%98P%E2%80%99%20in%20PBS%20Should%...</td>\n    </tr>\n    <tr>\n      <th>6271</th>\n      <td>Anti-Trump Protesters Are Tools of the Oligarc...</td>\n      <td>Anti-Trump Protesters Are Tools of the Oligar...</td>\n      <td>FAKE</td>\n      <td>[Anti-Trump, Protesters, Are, Tools, of, the, ...</td>\n      <td>9</td>\n      <td>Anti-Trump%20Protesters%20Are%20Tools%20of%20t...</td>\n    </tr>\n    <tr>\n      <th>6272</th>\n      <td>In Ethiopia, Obama seeks progress on peace, se...</td>\n      <td>ADDIS ABABA, Ethiopia —President Obama convene...</td>\n      <td>REAL</td>\n      <td>[In, Ethiopia,, Obama, seeks, progress, on, pe...</td>\n      <td>11</td>\n      <td>In%20Ethiopia%2C%20Obama%20seeks%20progress%20...</td>\n    </tr>\n    <tr>\n      <th>6273</th>\n      <td>Jeb Bush Is Suddenly Attacking Trump. Here's W...</td>\n      <td>Jeb Bush Is Suddenly Attacking Trump. Here's W...</td>\n      <td>REAL</td>\n      <td>[Jeb, Bush, Is, Suddenly, Attacking, Trump., H...</td>\n      <td>10</td>\n      <td>Jeb%20Bush%20Is%20Suddenly%20Attacking%20Trump...</td>\n    </tr>\n  </tbody>\n</table>\n<p>6274 rows × 6 columns</p>\n</div>"
     },
     "metadata": {},
     "output_type": "execute_result",
     "execution_count": 38
    }
   ],
   "source": [
    "data"
   ],
   "metadata": {
    "collapsed": false,
    "pycharm": {
     "name": "#%%\n",
     "is_executing": false
    }
   }
  },
  {
   "cell_type": "code",
   "execution_count": 56,
   "outputs": [],
   "source": [
    "listquery = data.title.tolist()"
   ],
   "metadata": {
    "collapsed": false,
    "pycharm": {
     "name": "#%%\n",
     "is_executing": false
    }
   }
  },
  {
   "cell_type": "code",
   "execution_count": 57,
   "outputs": [],
   "source": [
    "URL = \"https://www.googleapis.com/customsearch/v1\"\n",
    "query = listquery[0]\n",
    "PARAMS = {'key':, 'cx':, 'q':query}\n",
    "r = requests.get(url = URL, params = PARAMS) \n",
    "res = r.json()\n",
    "#URL = \"https://duckduckgo.com/html/?q=x\""
   ],
   "metadata": {
    "collapsed": false,
    "pycharm": {
     "name": "#%%\n",
     "is_executing": false
    }
   }
  },
  {
   "cell_type": "code",
   "execution_count": 69,
   "outputs": [
    {
     "name": "stdout",
     "text": [
      "Dec 23, 2009 ... “The smell of fear” turns out to have a foundation in science. All sweat smells—\n",
      "and some sweat screams anxiety to the world, according to a ...\n"
     ],
     "output_type": "stream"
    }
   ],
   "source": [
    "print(res[\"items\"][4][\"snippet\"])\n"
   ],
   "metadata": {
    "collapsed": false,
    "pycharm": {
     "name": "#%%\n",
     "is_executing": false
    }
   }
  },
  {
   "cell_type": "code",
   "execution_count": null,
   "outputs": [],
   "source": [
    "\n"
   ],
   "metadata": {
    "collapsed": false,
    "pycharm": {
     "name": "#%%\n"
    }
   }
  }
 ],
 "metadata": {
  "kernelspec": {
   "argv": [
    "python",
    "-m",
    "ipykernel_launcher",
    "-f",
    "{connection_file}"
   ],
   "display_name": "Python 3",
   "env": null,
   "interrupt_mode": "signal",
   "language": "python",
   "metadata": null,
   "name": "python3"
  },
  "name": "Untitled.ipynb",
  "pycharm": {
   "stem_cell": {
    "cell_type": "raw",
    "source": [],
    "metadata": {
     "collapsed": false
    }
   }
  }
 },
 "nbformat": 4,
 "nbformat_minor": 2
}